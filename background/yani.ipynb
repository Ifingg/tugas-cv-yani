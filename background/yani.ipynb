import cv2 as cv
import numpy as np

# Membaca gambar
image = cv.imread("foto.jpg")

# Mengonversi gambar ke ruang warna HSV
hsv = cv.cvtColor(image, cv.COLOR_BGR2HSV)

# Mendefinisikan rentang warna hijau dalam HSV
# Nilai ini bisa disesuaikan jika diperlukan untuk mencocokkan background hijau
lower_green = np.array([35, 40, 40])
upper_green = np.array([85, 255, 255])

# Membuat mask untuk background hijau
mask = cv.inRange(hsv, lower_green, upper_green)

# Membuat background biru dengan ukuran yang sama dengan gambar asli
blue_background = np.full_like(image, (255, 0, 0))  # Warna biru dalam format BGR

# Menggabungkan gambar asli dengan background biru menggunakan mask
result = cv.bitwise_and(blue_background, blue_background, mask=mask)
result = cv.bitwise_or(result, cv.bitwise_and(image, image, mask=cv.bitwise_not(mask)))

# Menyimpan atau menampilkan hasil
cv.imwrite("/mnt/data/gambar_dengan_background_biru.jpg", result)
cv.imshow("Gambar dengan Background Biru", result)
cv.waitKey(0)
cv.destroyAllWindows()

